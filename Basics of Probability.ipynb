{
 "cells": [
  {
   "cell_type": "markdown",
   "metadata": {},
   "source": [
    "Drill set 1\n",
    "\n",
    "1. HTTH = 0.5 * 0.5 * 0.5 * 0.5 = 0.0625\n",
    "   HHHH = 0.5 * 0.5 * 0.5 * 0.5 = 0.0625\n",
    "   TTHH = 0.5 * 0.5 * 0.5 * 0.5 = 0.0625\n",
    "   \n",
    "   All of the answers are the same because each flip is independent and has a 0.5 likelihood of occurring regardless of the\n",
    "   order.\n",
    "   \n",
    "2. 24/45\n",
    "\n",
    "3. 0.1% * 0.005% = 0.0005%\n",
    "\n",
    "4. There is sample bias because the users that surf longer will probably click more links and are more likely to get a survey.\n"
   ]
  },
  {
   "cell_type": "markdown",
   "metadata": {},
   "source": [
    "Drill Set 2\n",
    "\n",
    "0.005 - Have Thripshaw's\n",
    "0.995 - Do not have Thripshaw's\n",
    "\n",
    ".98 - Test pos/detect Thripshaw's\n",
    ".02 - False neg\n",
    "\n",
    ".10 - False pos - detect when no Thripshaw's\n",
    ".90 - Test neg\n",
    "\n",
    "Intuitive answers\n",
    "1. 1.5%\n",
    "2. 98%\n",
    "3. 90%\n",
    "4. 10%\n",
    "\n",
    "Calculated Answers\n",
    "1. (.98 * 0.005)+(.995 * .1) = .1044 = 10.44% \n",
    "2. .98 = 98%\n",
    "3. .90 = 90%\n",
    "4. (0.005 * 0.02)+(0.995 * .10) = 0.0996 = 9.96% "
   ]
  }
 ],
 "metadata": {
  "kernelspec": {
   "display_name": "Python 3",
   "language": "python",
   "name": "python3"
  },
  "language_info": {
   "codemirror_mode": {
    "name": "ipython",
    "version": 3
   },
   "file_extension": ".py",
   "mimetype": "text/x-python",
   "name": "python",
   "nbconvert_exporter": "python",
   "pygments_lexer": "ipython3",
   "version": "3.7.3"
  }
 },
 "nbformat": 4,
 "nbformat_minor": 2
}
