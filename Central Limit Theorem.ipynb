{
 "cells": [
  {
   "cell_type": "code",
   "execution_count": 1,
   "metadata": {},
   "outputs": [],
   "source": [
    "import numpy as np\n",
    "import pandas as pd\n",
    "import scipy\n",
    "import matplotlib.pyplot as plt\n",
    "%matplotlib inline"
   ]
  },
  {
   "cell_type": "code",
   "execution_count": 2,
   "metadata": {},
   "outputs": [
    {
     "data": {
      "image/png": "[encoded data removed]",
      "text/plain": [
       "<Figure size 432x288 with 1 Axes>"
      ]
     },
     "metadata": {
      "needs_background": "light"
     },
     "output_type": "display_data"
    }
   ],
   "source": [
    "#Create populations and plot, pop1 p = 0.2\n",
    "pop1 = np.random.binomial(10, 0.2, 10000)\n",
    "pop2 = np.random.binomial(10, 0.5, 10000)\n",
    "\n",
    "plt.hist(pop1, alpha=0.5, label='Population 1')\n",
    "plt.hist(pop2, alpha=0.5, label='Population 2')\n",
    "plt.legend(loc='upper right')\n",
    "plt.show()"
   ]
  },
  {
   "cell_type": "code",
   "execution_count": 3,
   "metadata": {},
   "outputs": [
    {
     "data": {
      "image/png": "[encoded data removed]",
      "text/plain": [
       "<Figure size 432x288 with 1 Axes>"
      ]
     },
     "metadata": {
      "needs_background": "light"
     },
     "output_type": "display_data"
    }
   ],
   "source": [
    "#Sample from each population and plot, sample size = 100\n",
    "sample1 = np.random.choice(pop1, 100, replace=True)\n",
    "sample2 = np.random.choice(pop2, 100, replace=True)\n",
    "\n",
    "plt.hist(sample1, alpha=0.5, label='Sample 1')\n",
    "plt.hist(sample2, alpha=0.5, label='Sample 2')\n",
    "plt.legend(loc='upper right')\n",
    "plt.show()"
   ]
  },
  {
   "cell_type": "code",
   "execution_count": 4,
   "metadata": {},
   "outputs": [
    {
     "name": "stdout",
     "output_type": "stream",
     "text": [
      "1.99\n",
      "4.81\n",
      "1.3303758867327684\n",
      "1.4811819604626573\n",
      "2.8199999999999994\n"
     ]
    }
   ],
   "source": [
    "#Compute mean and std of samples, sample size = 100\n",
    "print(np.mean(sample1))\n",
    "print(np.mean(sample2))\n",
    "print(np.std(sample1))\n",
    "print(np.std(sample2))\n",
    "\n",
    "#Difference between two sample means\n",
    "diff = np.mean(sample2) - np.mean(sample1)\n",
    "print(diff)"
   ]
  },
  {
   "cell_type": "code",
   "execution_count": 5,
   "metadata": {},
   "outputs": [
    {
     "data": {
      "image/png": "[encoded data removed]",
      "text/plain": [
       "<Figure size 432x288 with 1 Axes>"
      ]
     },
     "metadata": {
      "needs_background": "light"
     },
     "output_type": "display_data"
    }
   ],
   "source": [
    "#Sample from each population and plot, sample size = 1000\n",
    "sample1 = np.random.choice(pop1, 1000, replace=True)\n",
    "sample2 = np.random.choice(pop2, 1000, replace=True)\n",
    "\n",
    "plt.hist(sample1, alpha=0.5, label='Sample 1')\n",
    "plt.hist(sample2, alpha=0.5, label='Sample 2')\n",
    "plt.legend(loc='upper right')\n",
    "plt.show()"
   ]
  },
  {
   "cell_type": "code",
   "execution_count": 6,
   "metadata": {},
   "outputs": [
    {
     "name": "stdout",
     "output_type": "stream",
     "text": [
      "2.071\n",
      "4.919\n",
      "1.2868407049825552\n",
      "1.5473974925661473\n",
      "2.8479999999999994\n"
     ]
    }
   ],
   "source": [
    "#Compute mean and std of samples, sample size = 1000\n",
    "print(np.mean(sample1))\n",
    "print(np.mean(sample2))\n",
    "print(np.std(sample1))\n",
    "print(np.std(sample2))\n",
    "\n",
    "#Difference between two sample means\n",
    "diff = np.mean(sample2) - np.mean(sample1)\n",
    "print(diff)"
   ]
  },
  {
   "cell_type": "code",
   "execution_count": 7,
   "metadata": {},
   "outputs": [
    {
     "data": {
      "image/png": "[encoded data removed]",
      "text/plain": [
       "<Figure size 432x288 with 1 Axes>"
      ]
     },
     "metadata": {
      "needs_background": "light"
     },
     "output_type": "display_data"
    }
   ],
   "source": [
    "#Sample from each population and plot, sample size = 20\n",
    "sample1 = np.random.choice(pop1, 20, replace=True)\n",
    "sample2 = np.random.choice(pop2, 20, replace=True)\n",
    "\n",
    "plt.hist(sample1, alpha=0.5, label='Sample 1')\n",
    "plt.hist(sample2, alpha=0.5, label='Sample 2')\n",
    "plt.legend(loc='upper right')\n",
    "plt.show()"
   ]
  },
  {
   "cell_type": "code",
   "execution_count": 8,
   "metadata": {},
   "outputs": [
    {
     "name": "stdout",
     "output_type": "stream",
     "text": [
      "1.95\n",
      "5.95\n",
      "1.023474474522936\n",
      "1.4654350889752847\n",
      "4.0\n"
     ]
    }
   ],
   "source": [
    "#Compute mean and std of samples, sample size = 20\n",
    "print(np.mean(sample1))\n",
    "print(np.mean(sample2))\n",
    "print(np.std(sample1))\n",
    "print(np.std(sample2))\n",
    "\n",
    "#Difference between two sample means\n",
    "diff = np.mean(sample2) - np.mean(sample1)\n",
    "print(diff)"
   ]
  },
  {
   "cell_type": "code",
   "execution_count": 9,
   "metadata": {},
   "outputs": [
    {
     "name": "stdout",
     "output_type": "stream",
     "text": [
      "Ttest_indResult(statistic=7.1156132882137335, pvalue=2.0467194269636937e-11)\n"
     ]
    }
   ],
   "source": [
    "#Create populations and plot, pop1 p=0.3\n",
    "pop1 = np.random.binomial(10, 0.3, 10000)\n",
    "pop2 = np.random.binomial(10,0.5, 10000) \n",
    "\n",
    "#Sample from each population\n",
    "sample1 = np.random.choice(pop1, 100, replace=True)\n",
    "sample2 = np.random.choice(pop2, 100, replace=True)\n",
    "\n",
    "#Calculate t-statistic and p-value\n",
    "from scipy.stats import ttest_ind\n",
    "print(ttest_ind(sample2, sample1, equal_var=False))"
   ]
  },
  {
   "cell_type": "code",
   "execution_count": 10,
   "metadata": {},
   "outputs": [
    {
     "name": "stdout",
     "output_type": "stream",
     "text": [
      "Ttest_indResult(statistic=5.470039953759377, pvalue=1.3494553368577145e-07)\n"
     ]
    }
   ],
   "source": [
    "#Create populations and plot, pop1 p=0.4\n",
    "pop1 = np.random.binomial(10, 0.4, 10000)\n",
    "pop2 = np.random.binomial(10,0.5, 10000) \n",
    "\n",
    "#Sample from each population\n",
    "sample1 = np.random.choice(pop1, 100, replace=True)\n",
    "sample2 = np.random.choice(pop2, 100, replace=True)\n",
    "\n",
    "#Calculate t-statistic and p-value\n",
    "from scipy.stats import ttest_ind\n",
    "print(ttest_ind(sample2, sample1, equal_var=False))"
   ]
  },
  {
   "cell_type": "code",
   "execution_count": 11,
   "metadata": {},
   "outputs": [],
   "source": [
    "#As the samples become more similar, the t-statistic gets smaller and the p-value gets larger.\n",
    "#As samples become less variable, the t-statistic gets smaller because there is less variance between the two sample means. \n",
    "#As the p-value gets larger, the likelihood of the differences in means seen in the population reflect variability in the \n",
    "#samples rather than meaningful differences.   "
   ]
  },
  {
   "cell_type": "code",
   "execution_count": 12,
   "metadata": {},
   "outputs": [],
   "source": [
    "#Yes, the sample means still represent the population as a whole.  The Central Limit Theorem \n",
    "#stipulates that with a large enough sample size, almost any distribution of sample means will reflect the population mean."
   ]
  }
 ],
 "metadata": {
  "kernelspec": {
   "display_name": "Python 3",
   "language": "python",
   "name": "python3"
  },
  "language_info": {
   "codemirror_mode": {
    "name": "ipython",
    "version": 3
   },
   "file_extension": ".py",
   "mimetype": "text/x-python",
   "name": "python",
   "nbconvert_exporter": "python",
   "pygments_lexer": "ipython3",
   "version": "3.7.3"
  }
 },
 "nbformat": 4,
 "nbformat_minor": 2
}
